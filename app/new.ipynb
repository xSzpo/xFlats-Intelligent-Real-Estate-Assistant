{
 "cells": [
  {
   "cell_type": "code",
   "execution_count": null,
   "id": "c77adab5",
   "metadata": {},
   "outputs": [],
   "source": [
    "%load_ext autoreload\n",
    "%autoreload 2\n",
    "\n",
    "import datetime\n",
    "import os\n",
    "import time\n",
    "\n",
    "import requests\n",
    "from google import genai\n",
    "import datetime\n",
    "import hashlib\n",
    "import os\n",
    "import re\n",
    "import time\n",
    "from pydantic import HttpUrl\n",
    "\n",
    "import chromadb\n",
    "import requests\n",
    "from chromadb import Documents, EmbeddingFunction, Embeddings\n",
    "from google import genai\n",
    "from google.api_core import retry\n",
    "from google.genai import types\n",
    "from pydantic import BaseModel\n",
    "from utils import (\n",
    "    check_crawl_permission,\n",
    "    fetch_html,\n",
    "    filter_unique_ids,\n",
    "    fix_json,\n",
    "    geocode_address,\n",
    "    get_price_point,\n",
    "    get_public_transport_stations,\n",
    "    get_secret,\n",
    "    is_retriable,\n",
    "    offer_to_text,\n",
    "    preprocess_html,\n",
    "    remove_url_parameters,\n",
    "    extract_adresse_urls,\n",
    "    chromadb_check_if_document_exists,\n",
    "    fetch_and_preprocess\n",
    ")\n"
   ]
  },
  {
   "cell_type": "code",
   "execution_count": null,
   "id": "db1d5ddd-94fb-40fd-afc6-727c3270259d",
   "metadata": {},
   "outputs": [],
   "source": [
    "\n",
    "# bot page\n",
    "# https://api.telegram.org/bot{telegram_token}/getUpdates\n",
    "\n",
    "profile_name = os.getenv(\"AWS_PROFILE\", \"priv\")\n",
    "chromadb_ip = os.getenv(\"CHROMADB_IP\", \"3.124.214.10\")\n",
    "\n",
    "telegram_token = api_key = get_secret(\n",
    "    secret_id=\"telegram-274181059559\", key=\"TOKEN\", profile_name=profile_name\n",
    ")\n",
    "\n",
    "telegram_chat_id = api_key = get_secret(\n",
    "    secret_id=\"telegram-274181059559\", key=\"CHAT_ID\", profile_name=profile_name\n",
    ")\n",
    "\n",
    "genai_api_key = get_secret(\n",
    "    secret_id=\"gemini-274181059559\", key=\"GOOGLE_API_KEY\", profile_name=profile_name\n",
    ")\n",
    "\n",
    "client = genai.Client(api_key=genai_api_key)"
   ]
  },
  {
   "cell_type": "code",
   "execution_count": null,
   "id": "3dae333b-e9c9-4e4d-98f8-5f126a94a57a",
   "metadata": {},
   "outputs": [],
   "source": [
    "from main import setup_vector_database\n"
   ]
  },
  {
   "cell_type": "code",
   "execution_count": null,
   "id": "a2f0331c-7063-4df2-a610-ef74b79a6744",
   "metadata": {},
   "outputs": [],
   "source": [
    "collection = setup_vector_database(\n",
    "    ip=chromadb_ip,\n",
    "    client=client,\n",
    ")"
   ]
  },
  {
   "cell_type": "code",
   "execution_count": null,
   "id": "4669bcd2-7000-422b-b483-c06413be7b7f",
   "metadata": {},
   "outputs": [],
   "source": [
    "type(collection)"
   ]
  },
  {
   "cell_type": "code",
   "execution_count": null,
   "id": "baceb1e3-28e2-4e7e-a255-f533e2f609e2",
   "metadata": {},
   "outputs": [],
   "source": [
    "\n",
    "PROMPT_TEMPLATE = \"\"\"\n",
    "You are an expert in extracting apartment listings from cleaned HTML text. Your task is to extract key structured information and present it in **valid JSON format**.\n",
    "\n",
    "Please follow these instructions **precisely**:\n",
    "\n",
    "1. **Translate all text to English**, except for the **Address**, which must remain in its original language.\n",
    "2. **Create a detailed apartment description** based on the listing, covering:\n",
    "   - Natural light: Is it bright, which directions (e.g., east-facing)?\n",
    "   - Condition: Is it newly built, recently renovated, or older but well-maintained?\n",
    "   - View: What can be seen from the apartment? (e.g., courtyard, street, green area)\n",
    "   - Neighborhood: What is mentioned about the area? Is it calm, central, well-connected, or popular?\n",
    "3. **Address**: Extract in this format: `Street Name Number, PostalCode City, Country`  \n",
    "   - Do NOT include unit/floor/apartment numbers in the address\n",
    "4. **Price**: Extract as an integer, no commas or currency signs (e.g., `3250000`). If missing, use `null`.\n",
    "5. **Area (m2)**: Extract as an integer (e.g., `87`). If missing, use `null`.\n",
    "6. **Number of Rooms**: Extract total number of rooms as an integer. If missing, use `null`.\n",
    "7. **Year Built**: Extract the year the building was constructed (e.g., `2006`). If missing, use `null`.\n",
    "8. **Energy Label**: Extract as a single uppercase letter (`A`, `B`, etc.). If not available, use `null`.\n",
    "9. **Balcony**: Return `true` if a balcony or terrace is mentioned; otherwise, `false`.\n",
    "10. **URL**: Extract the full link to the listing.\n",
    "\n",
    "Ensure the output is **JSON only**, with no explanation or additional text.\n",
    "\n",
    "Cleaned HTMLs:\n",
    "\n",
    "{html_content}\n",
    "\n",
    "JSON output:\n",
    "\"\"\"\n",
    "\n",
    "\n",
    "class Offers(BaseModel):\n",
    "    address: str\n",
    "    description: str\n",
    "    floor: str\n",
    "    price: int\n",
    "    area_m2: int\n",
    "    number_of_rooms: int\n",
    "    year_built: int\n",
    "    energy_label: str\n",
    "    balcony: str\n",
    "    url: str\n",
    "\n",
    "\n",
    "class ListOfOffers(BaseModel):\n",
    "    offers: list[Offers]\n",
    "\n",
    "\n",
    "EXAMPLE_TEXT = \"\"\"\n",
    "```json\n",
    "[\n",
    "    {\n",
    "        \"address\": \"Engholmene, 2450 København SV, Denmark\",\n",
    "        \"description\": \"Apartment boasts abundant natural light and a spacious west-facing balcony overlooking the canal and marina. The contemporary interior is move-in ready, featuring high-quality materials. The neighborhood offers plenty of greenery, cafés, promenades, and convenient metro access.\",\n",
    "        \"floor\": \"5\",\n",
    "        \"price\": 6195000,\n",
    "        \"area_m2\": 91,\n",
    "        \"number_of_rooms\": 2,\n",
    "        \"year_built\": 2019,\n",
    "        \"energy_label\": \"A\",\n",
    "        \"balcony\": \"true\",\n",
    "        \"url\": \"https://www.boligsiden.dk/adresse/engholmene-2450-koebenhavn-sv-eksempel\"\n",
    "    }\n",
    "]\n",
    "\"\"\"\n",
    "\n",
    "\n",
    "BASE_URL = (\n",
    "    \"https://www.boligsiden.dk/tilsalg/villa,ejerlejlighed?sortAscending=true\"\n",
    "    \"&mapBounds=7.780294,54.501948,15.330305,57.896401&priceMax=7000000\"\n",
    "    \"&polygon=12.555001,55.714439|12.544964,55.711152|12.535566,55.708713|12.523383,55.700403|\"\n",
    "    \"12.513564,55.690885|12.507604,55.674192|12.508089,55.656840|12.521769,55.648585|\"\n",
    "    \"12.534702,55.642731|12.564876,55.614388|12.591917,55.614270|12.599055,55.649692|\"\n",
    "    \"12.605518,55.649361|12.615303,55.649093|12.628699,55.649335|12.641590,55.649906|\"\n",
    "    \"12.636977,55.665739|12.626008,55.676732|12.636641,55.686489|12.654036,55.720127|\"\n",
    "    \"12.602392,55.730897|12.555001,55.714439&page={page}\"\n",
    ")\n"
   ]
  },
  {
   "cell_type": "code",
   "execution_count": null,
   "id": "776badc1-4978-41bd-92bc-60cf9223ba74",
   "metadata": {},
   "outputs": [],
   "source": [
    "html_content = fetch_html(BASE_URL.format(page=1))"
   ]
  },
  {
   "cell_type": "code",
   "execution_count": null,
   "id": "68175678-f788-430e-9c7f-c676b38d5fe8",
   "metadata": {},
   "outputs": [],
   "source": [
    "urls = extract_adresse_urls(html_content)\n",
    "urls_hash = [\n",
    "    (url, hashlib.shake_128(str(url).encode()).hexdigest(8))\n",
    "    for url in urls\n",
    "]\n",
    "new_urls: list = []\n",
    "for url, hash_id in urls_hash:\n",
    "    if not chromadb_check_if_document_exists(hash_id, collection):\n",
    "        new_urls += [url]\n"
   ]
  },
  {
   "cell_type": "code",
   "execution_count": null,
   "id": "b6357b17-9c8b-4def-a974-abb6b4dda6bc",
   "metadata": {},
   "outputs": [],
   "source": [
    "offers_source: list[dict] = []\n",
    "\n",
    "for url in new_urls:\n",
    "    text = fetch_and_preprocess(url, mode=\"two_requests\")\n",
    "    if text:\n",
    "        offers_source += [{\"url\": url, \"text\": text}]"
   ]
  },
  {
   "cell_type": "code",
   "execution_count": null,
   "id": "369a6473-10bd-4c36-b153-8b51ae5f0b8c",
   "metadata": {},
   "outputs": [],
   "source": [
    "SOURCE_TEMPLATE = \"\"\"\n",
    "---------------------\n",
    "Offer #{i}\n",
    "URL: {url}  \n",
    "SOURCE:\n",
    "{text}\n",
    "\"\"\"\n",
    "\n",
    "SOURCE = \"\"\n",
    "\n",
    "for i, offer in enumerate(offers_source):\n",
    "    SOURCE += SOURCE_TEMPLATE.format(i=i+1, **offer)\n",
    "\n"
   ]
  },
  {
   "cell_type": "code",
   "execution_count": null,
   "id": "3cefe28b-d399-4afe-9bde-dde23a656e51",
   "metadata": {},
   "outputs": [],
   "source": [
    "SOURCE"
   ]
  },
  {
   "cell_type": "code",
   "execution_count": null,
   "id": "f549822e-f6a0-4e02-bba0-02b1083dde13",
   "metadata": {},
   "outputs": [],
   "source": []
  },
  {
   "cell_type": "code",
   "execution_count": null,
   "id": "35adfe52-1779-4859-a010-93d9c2e9929d",
   "metadata": {},
   "outputs": [],
   "source": []
  },
  {
   "cell_type": "code",
   "execution_count": null,
   "id": "2515440a-8105-498f-96cf-c953e49d9beb",
   "metadata": {},
   "outputs": [],
   "source": []
  },
  {
   "cell_type": "code",
   "execution_count": null,
   "id": "10ef2b9f-ecef-447c-bc7f-284d15394d25",
   "metadata": {},
   "outputs": [],
   "source": []
  },
  {
   "cell_type": "code",
   "execution_count": null,
   "id": "ee7e3788-bb98-49e7-9c65-ec938ea3fad0",
   "metadata": {},
   "outputs": [],
   "source": []
  },
  {
   "cell_type": "code",
   "execution_count": null,
   "id": "2b126a7e-b71d-4a93-8a82-cffeddfa592b",
   "metadata": {},
   "outputs": [],
   "source": []
  },
  {
   "cell_type": "code",
   "execution_count": null,
   "id": "b6fec6a2-cb5a-4509-84d2-8aad7a55624c",
   "metadata": {},
   "outputs": [],
   "source": []
  }
 ],
 "metadata": {
  "kernelspec": {
   "display_name": "Python 3 (ipykernel)",
   "language": "python",
   "name": "python3"
  },
  "language_info": {
   "codemirror_mode": {
    "name": "ipython",
    "version": 3
   },
   "file_extension": ".py",
   "mimetype": "text/x-python",
   "name": "python",
   "nbconvert_exporter": "python",
   "pygments_lexer": "ipython3",
   "version": "3.11.12"
  }
 },
 "nbformat": 4,
 "nbformat_minor": 5
}
