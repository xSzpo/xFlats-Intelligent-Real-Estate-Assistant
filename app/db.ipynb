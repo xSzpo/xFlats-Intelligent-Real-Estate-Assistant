{
 "cells": [
  {
   "cell_type": "code",
   "execution_count": null,
   "id": "907d4a6e-0df0-4eef-910c-cdd8407154c7",
   "metadata": {},
   "outputs": [],
   "source": [
    "# %cd .."
   ]
  },
  {
   "cell_type": "code",
   "execution_count": null,
   "id": "c77adab5",
   "metadata": {},
   "outputs": [],
   "source": [
    "\n",
    "import datetime\n",
    "import hashlib\n",
    "import os\n",
    "import time\n",
    "from typing import Any\n",
    "\n",
    "import chromadb\n",
    "import requests\n",
    "from chromadb import Documents, EmbeddingFunction, Embeddings\n",
    "from google import genai\n",
    "from google.api_core import retry\n",
    "from google.genai import types\n",
    "from pydantic import BaseModel\n",
    "from utils import (\n",
    "    add_offers_to_db,\n",
    "    check_crawl_permission,\n",
    "    chromadb_check_if_document_exists,\n",
    "    create_offer_text,\n",
    "    extract_adresse_urls,\n",
    "    fetch_and_preprocess,\n",
    "    fetch_html,\n",
    "    fix_json,\n",
    "    geocode_address,\n",
    "    get_price_point,\n",
    "    get_public_transport_stations,\n",
    "    get_secret,\n",
    "    is_retriable,\n",
    "    offer_to_text,\n",
    "    remove_url_parameters,\n",
    ")"
   ]
  },
  {
   "cell_type": "code",
   "execution_count": null,
   "id": "83a9a2bc",
   "metadata": {},
   "outputs": [],
   "source": [
    "\n",
    "profile_name = os.getenv(\"AWS_PROFILE\", \"priv\")\n",
    "chromadb_ip = os.getenv(\"CHROMADB_IP\", \"3.124.214.10\")\n",
    "telegram_token = api_key = get_secret(\n",
    "    secret_id=\"telegram-274181059559\", key=\"TOKEN\", profile_name=profile_name\n",
    ")\n",
    "telegram_chat_id = api_key = get_secret(\n",
    "    secret_id=\"telegram-274181059559\", key=\"CHAT_ID\", profile_name=profile_name\n",
    ")\n",
    "genai_api_key = get_secret(\n",
    "    secret_id=\"gemini-274181059559\", key=\"GOOGLE_API_KEY\", profile_name=profile_name\n",
    ")\n",
    "client = genai.Client(api_key=genai_api_key)\n"
   ]
  },
  {
   "cell_type": "code",
   "execution_count": null,
   "id": "e2736401-dafd-458b-99c4-62779a9449d4",
   "metadata": {},
   "outputs": [],
   "source": [
    "\n",
    "class GeminiEmbeddingFunction(EmbeddingFunction):\n",
    "    \"\"\"Custom embedding function using Google's Gemini API.\"\"\"\n",
    "\n",
    "    def __init__(self, client: genai.Client, *args, **kwargs):\n",
    "        self.client = client\n",
    "        self.document_mode = True\n",
    "        super().__init__(*args, **kwargs)\n",
    "\n",
    "    @retry.Retry(predicate=is_retriable)\n",
    "    def __call__(self, input: Documents) -> Embeddings:\n",
    "        task_type = \"retrieval_document\" if self.document_mode else \"retrieval_query\"\n",
    "        response = self.client.models.embed_content(\n",
    "            model=\"models/text-embedding-004\",\n",
    "            contents=input,\n",
    "            config=types.EmbedContentConfig(task_type=task_type),\n",
    "        )\n",
    "        return [e.values for e in response.embeddings]\n",
    "\n",
    "client = genai.Client(api_key=genai_api_key)\n",
    "embed_fn = GeminiEmbeddingFunction(client)\n",
    "embed_fn.document_mode = True\n",
    "\n",
    "chroma_client = chromadb.HttpClient(host=chromadb_ip)\n",
    "\n",
    "\n",
    "DB_NAME = \"real-estate-offers-v2\"\n",
    "collection = chroma_client.get_or_create_collection(\n",
    "    name=DB_NAME, embedding_function=embed_fn\n",
    ")"
   ]
  },
  {
   "cell_type": "code",
   "execution_count": null,
   "id": "51c3201a-da7a-44b8-8012-c52554598879",
   "metadata": {},
   "outputs": [],
   "source": [
    "collection.count()"
   ]
  },
  {
   "cell_type": "code",
   "execution_count": null,
   "id": "d1b0a79b-678b-4487-8ce7-706898c51699",
   "metadata": {},
   "outputs": [],
   "source": [
    "# chroma_client.delete_collection(DB_NAME)"
   ]
  },
  {
   "cell_type": "code",
   "execution_count": null,
   "id": "00be975c-9959-4e0f-9d23-4c5d33eb0fb4",
   "metadata": {},
   "outputs": [],
   "source": []
  },
  {
   "cell_type": "markdown",
   "id": "fb6c0764-f0e7-4ef6-8a14-048bee92b87c",
   "metadata": {},
   "source": [
    "# OLD CODE"
   ]
  },
  {
   "cell_type": "code",
   "execution_count": null,
   "id": "20c302e2",
   "metadata": {},
   "outputs": [],
   "source": [
    "%load_ext autoreload\n",
    "%autoreload 2\n",
    "\n",
    "from main import EXAMPLE_TEXT, PROMPT_TEMPLATE, system_instruction_template, BASE_URL\n"
   ]
  },
  {
   "cell_type": "code",
   "execution_count": null,
   "id": "05ed54ce",
   "metadata": {},
   "outputs": [],
   "source": [
    "collection = setup_vector_database(\n",
    "    ip=chromadb_ip,\n",
    "    client=client,\n",
    ")\n",
    "print(\"Vector database initialized\")"
   ]
  },
  {
   "cell_type": "code",
   "execution_count": null,
   "id": "0cc53e16",
   "metadata": {},
   "outputs": [],
   "source": [
    "all_results = []\n",
    "\n",
    "MAX_RETRIES = 3  # Number of times to retry a page\n",
    "NUMBER_OF_PAGES_TO_OPEN = int(os.getenv(\"NUMBER_OF_PAGES_TO_OPEN\", 2))\n",
    "GET_OFFERS_FROM_X_LAST_MIN = 5"
   ]
  },
  {
   "cell_type": "code",
   "execution_count": null,
   "id": "dcb1e6a5",
   "metadata": {},
   "outputs": [],
   "source": [
    "page_url = BASE_URL.format(page=1)\n",
    "\n",
    "offers = summarize_webpage(\n",
    "    page_url, PROMPT_TEMPLATE, EXAMPLE_TEXT, client\n",
    ")"
   ]
  },
  {
   "cell_type": "code",
   "execution_count": null,
   "id": "74ac9f94",
   "metadata": {},
   "outputs": [],
   "source": [
    "len(offers)"
   ]
  },
  {
   "cell_type": "code",
   "execution_count": null,
   "id": "5a32bda2",
   "metadata": {},
   "outputs": [],
   "source": [
    "offers[0]"
   ]
  },
  {
   "cell_type": "code",
   "execution_count": null,
   "id": "c89ab565-5fa8-42c6-88be-c8546ac34aab",
   "metadata": {},
   "outputs": [],
   "source": [
    "import datetime\n",
    "import hashlib\n",
    "import json\n",
    "import re\n",
    "import statistics\n",
    "from urllib.parse import urljoin, urlparse\n",
    "from urllib.request import urlopen\n",
    "\n",
    "import boto3\n",
    "import chromadb\n",
    "import requests\n",
    "from chromadb import Documents, EmbeddingFunction, Embeddings\n",
    "from google import genai\n",
    "from google.api_core import retry\n",
    "from google.genai import types\n",
    "from osmnx import features_from_point\n",
    "from pydantic import BaseModel\n",
    "\n",
    "def get_secret(secret_id, key=None, profile_name=None):\n",
    "    if profile_name:\n",
    "        boto3.setup_default_session(profile_name=profile_name)\n",
    "    secrets_client = boto3.client(\"secretsmanager\", region_name=\"eu-central-1\")\n",
    "    secret_value_response = secrets_client.get_secret_value(SecretId=secret_id)\n",
    "    secret_dict = json.loads(secret_value_response[\"SecretString\"])\n",
    "    if key:\n",
    "        return secret_dict[key]\n",
    "    else:\n",
    "        return secret_dict\n",
    "\n",
    "\n",
    "client = genai.Client(\n",
    "    api_key=get_secret(\n",
    "        secret_id=\"gemini-274181059559\", key=\"GOOGLE_API_KEY\", profile_name=\"priv\"\n",
    "    )\n",
    ")"
   ]
  },
  {
   "cell_type": "code",
   "execution_count": null,
   "id": "f8f1c224-c775-4278-a2ac-d9e63d557dab",
   "metadata": {},
   "outputs": [],
   "source": [
    "\n",
    "def is_retriable(e: Exception) -> bool:\n",
    "    \"\"\"\n",
    "    Determine if an exception should trigger a retry.\n",
    "\n",
    "    Parameters:\n",
    "        e (Exception): The exception to check.\n",
    "\n",
    "    Returns:\n",
    "        bool: True if the exception is retriable (API error codes 429 or 503), otherwise False.\n",
    "    \"\"\"\n",
    "    return isinstance(e, genai.errors.APIError) and e.code in {429, 503}\n",
    "\n",
    "\n",
    "class GeminiEmbeddingFunction(EmbeddingFunction):\n",
    "    \"\"\"\n",
    "    Custom embedding function for generating text embeddings via the Gemini API.\n",
    "    \"\"\"\n",
    "\n",
    "    document_mode: bool = True\n",
    "\n",
    "    @retry.Retry(predicate=is_retriable)\n",
    "    def __call__(self, input: Documents) -> Embeddings:\n",
    "        \"\"\"\n",
    "        Generate embeddings for the provided documents.\n",
    "\n",
    "        Parameters:\n",
    "            input (Documents): The documents or queries to embed.\n",
    "\n",
    "        Returns:\n",
    "            Embeddings: A list of embedding vectors.\n",
    "        \"\"\"\n",
    "        task_type = \"retrieval_document\" if self.document_mode else \"retrieval_query\"\n",
    "        response = client.models.embed_content(\n",
    "            model=\"models/text-embedding-004\",\n",
    "            contents=input,\n",
    "            config=types.EmbedContentConfig(task_type=task_type),\n",
    "        )\n",
    "        return [e.values for e in response.embeddings]\n"
   ]
  },
  {
   "cell_type": "code",
   "execution_count": null,
   "id": "27ae3864-a652-4773-aeef-572e57dff41f",
   "metadata": {},
   "outputs": [],
   "source": [
    "DB_NAME = \"real-estate-offers\"\n",
    "embed_fn = GeminiEmbeddingFunction()\n",
    "embed_fn.document_mode = True\n",
    "chroma_client = chromadb.HttpClient(host=\"3.124.214.10\", port=8000)\n",
    "collection = chroma_client.get_or_create_collection(\n",
    "    name=DB_NAME, embedding_function=embed_fn\n",
    ")"
   ]
  },
  {
   "cell_type": "code",
   "execution_count": null,
   "id": "fa98741f-8716-4e50-9ffb-2bedcdede51c",
   "metadata": {},
   "outputs": [],
   "source": [
    "chroma_client.list_collections()"
   ]
  },
  {
   "cell_type": "code",
   "execution_count": null,
   "id": "5de6fb2f-b05a-4cab-b5b4-53e9ffce64ea",
   "metadata": {},
   "outputs": [],
   "source": [
    "collection.count()"
   ]
  },
  {
   "cell_type": "code",
   "execution_count": null,
   "id": "404c8941-9daa-4def-9290-20eb2b98f3d0",
   "metadata": {},
   "outputs": [],
   "source": [
    "# chroma_client.delete_collection(real-estate-offers-v2\")"
   ]
  },
  {
   "cell_type": "code",
   "execution_count": null,
   "id": "0106a5c3-edc3-403a-9281-ff72e8f765cd",
   "metadata": {
    "scrolled": true
   },
   "outputs": [],
   "source": [
    "now = datetime.datetime.now()\n",
    "\n",
    "newest_results = collection.get(\n",
    "        include=[\"metadatas\"],\n",
    "        where={\n",
    "        \"$and\": [\n",
    "            {\"create_date\": {\"$gt\": (now - datetime.timedelta(minutes=350)).timestamp()}},\n",
    "            {\"subways\": {\"$eq\": True}},\n",
    "            {\"number_of_rooms\": {\"$gte\": 3}}\n",
    "        ]\n",
    "        }\n",
    ")['metadatas']\n",
    "\n",
    "newest_results = newest_results[:10]"
   ]
  },
  {
   "cell_type": "code",
   "execution_count": null,
   "id": "6350c7b0-4c88-40df-b024-da264462c407",
   "metadata": {},
   "outputs": [],
   "source": [
    "newest_results"
   ]
  },
  {
   "cell_type": "code",
   "execution_count": null,
   "id": "2434a60b-7a49-4a87-bfc0-3dfc4cb59538",
   "metadata": {},
   "outputs": [],
   "source": [
    "%load_ext autoreload\n",
    "%autoreload 2\n",
    "\n",
    "from app import get_price_point\n",
    "\n",
    "# Calculate price point for each new offer\n",
    "for offer in newest_results:\n",
    "    offer[\"price_point\"] = get_price_point(offer, collection)\n",
    "\n",
    "newest_results.sort(key=lambda x: x.get(\"price_point\", 0))\n"
   ]
  },
  {
   "cell_type": "code",
   "execution_count": null,
   "id": "9a2886f8-0602-4238-9d1a-5c646fa1cfdf",
   "metadata": {},
   "outputs": [],
   "source": [
    "offer_dict = newest_results[1]\n",
    "offer_dict"
   ]
  },
  {
   "cell_type": "code",
   "execution_count": null,
   "id": "95698aad-8311-4c2c-b7f3-5d92ab2c96b1",
   "metadata": {},
   "outputs": [],
   "source": [
    "\n",
    "import re\n",
    "\n",
    "def create_offer_text(offer_dict) -> str:\n",
    "    \"\"\"\n",
    "    Build a multi-line description of a property offer, optionally extracting\n",
    "    subway names from the raw transport text.\n",
    "\n",
    "    Extracts any occurrences of 'subways:...;' if `offer_dict['subways']` is True,\n",
    "    joins them with commas, and injects all values into the template.\n",
    "\n",
    "    Returns:\n",
    "        A formatted multi-line string including all fields and the\n",
    "        comma-separated list of subways (if any).\n",
    "    \"\"\"\n",
    "    if offer_dict.get('subways', False):\n",
    "        pattern = re.compile(r'(?<=subways:)([^;]+)(?=;)')\n",
    "        subways = pattern.findall(offer_dict['public_transport_text'])\n",
    "        subways_txt = \", \".join(subways)\n",
    "    else:\n",
    "        subways_txt = \"\"\n",
    "\n",
    "    offer_txt = \"\"\"\n",
    "Address: {address}\n",
    "Size: {area_m2} m2, Rooms: {number_of_rooms}, Year: {year_built}, Energy: {energy_label}\n",
    "Price: {price:,} DKK ({price_point:.2%})\n",
    "Subway(s): {subways_txt}\n",
    "Url: {url}\n",
    "Public transport: {public_transport_text}\n",
    "    \"\"\".format(**offer_dict, subways_txt=subways_txt)\n",
    "\n",
    "    return offer_txt\n",
    "\n",
    "print(create_offer_text(offer_dict))"
   ]
  },
  {
   "cell_type": "code",
   "execution_count": null,
   "id": "3a0539b9-c764-43fd-b0e9-15daa8b92967",
   "metadata": {},
   "outputs": [],
   "source": [
    "message = create_offer_text(offer_dict)"
   ]
  },
  {
   "cell_type": "code",
   "execution_count": null,
   "id": "ae5e16f6-d520-4a07-b942-d80435ff67b9",
   "metadata": {},
   "outputs": [],
   "source": [
    "TOKEN = \"6254467902:AAF6WgjW1giheyqXMWVEz4CFTlqQyUB2wL8\"\n",
    "\n",
    "url = (\n",
    "    f\"https://api.telegram.org/bot{TOKEN}/\"\n",
    "    f\"sendMessage?chat_id={-4764438804}&text={message}\"\n",
    ")\n",
    "requests.get(url).json()"
   ]
  },
  {
   "cell_type": "code",
   "execution_count": null,
   "id": "30bbbf74-17da-4920-a033-60439d5dffc0",
   "metadata": {},
   "outputs": [],
   "source": [
    "# Add historical listings to vector database\n",
    "pprint(f\"Adding {len(all_results)} historical listings to vector database\")\n",
    "add_offers_to_db(collection, all_results)\n",
    "\n",
    "# Fetch newest offers from page 1\n",
    "pprint(\"Fetching newest property listings\")\n",
    "newest_results = []\n",
    "page = 1\n",
    "page_url = BASE_URL.format(page=page)\n",
    "offers = summarize_webpage(page_url, PROMPT_TEMPLATE, EXAMPLE_TEXT)\n",
    "newest_results.extend(offers)\n",
    "\n",
    "# Calculate price point for each new offer\n",
    "pprint(\"Calculating price points for new listings\")\n"
   ]
  },
  {
   "cell_type": "code",
   "execution_count": null,
   "id": "c008ecc8-d777-46ed-af98-83e216f2b19a",
   "metadata": {},
   "outputs": [],
   "source": []
  },
  {
   "cell_type": "code",
   "execution_count": null,
   "id": "8b368792-103f-4e28-a0d6-45e3eb531b2d",
   "metadata": {},
   "outputs": [],
   "source": []
  },
  {
   "cell_type": "code",
   "execution_count": null,
   "id": "21ce8161-7e8d-40e9-bc6d-ac6cfcc6130b",
   "metadata": {},
   "outputs": [],
   "source": []
  },
  {
   "cell_type": "code",
   "execution_count": null,
   "id": "66a8835f-1bd1-4e73-93f2-0745d2dcfa3b",
   "metadata": {},
   "outputs": [],
   "source": [
    "collection.query(\n",
    "    query_texts=[\"balcony\"], # Chroma will embed this for you\n",
    "    n_results=2, # how many results to return\n",
    "    where = {\"subways\":  {\"$eq\": True}},\n",
    "    where_document={\"$contains\": \"Runddel\"}\n",
    ")"
   ]
  },
  {
   "cell_type": "code",
   "execution_count": null,
   "id": "171dfd61-dc4b-4ae8-b0b0-fc9d0f1ba448",
   "metadata": {},
   "outputs": [],
   "source": [
    "collection.get(\n",
    "        include=[\"metadatas\", \"documents\", \"embeddings\"],\n",
    "        limit=1,\n",
    "        offset=1)"
   ]
  },
  {
   "cell_type": "code",
   "execution_count": null,
   "id": "afc12a68-6ad8-4d57-9fab-34394a373089",
   "metadata": {},
   "outputs": [],
   "source": []
  },
  {
   "cell_type": "code",
   "execution_count": null,
   "id": "5128d386-1e90-4103-b43b-2c1df71bc2ae",
   "metadata": {},
   "outputs": [],
   "source": [
    "col.get(\n",
    "        include=[\"metadatas\", \"documents\", \"embeddings\"],\n",
    "        limit=1,\n",
    "        offset=1)"
   ]
  },
  {
   "cell_type": "code",
   "execution_count": null,
   "id": "d4e16d2a-538a-4e46-8f25-2fe316da2368",
   "metadata": {},
   "outputs": [],
   "source": [
    "chroma_client.delete_collection(\"test\")"
   ]
  },
  {
   "cell_type": "code",
   "execution_count": null,
   "id": "ac12360a-9ab6-4dfe-9651-c74abf883c61",
   "metadata": {},
   "outputs": [],
   "source": [
    "[{\"create_date\": date} for date in dates][:2]"
   ]
  },
  {
   "cell_type": "code",
   "execution_count": null,
   "id": "a8379ca6-7b5f-4dcb-8450-6505ae08be1a",
   "metadata": {},
   "outputs": [],
   "source": []
  },
  {
   "cell_type": "code",
   "execution_count": null,
   "id": "9985aa86-691b-4840-8ea5-f90c2424b968",
   "metadata": {},
   "outputs": [],
   "source": [
    "    BASE_URL = (\n",
    "        \"https://www.boligsiden.dk/tilsalg/villa,ejerlejlighed?sortAscending=true\"\n",
    "        \"&mapBounds=7.780294,54.501948,15.330305,57.896401&priceMax=7000000\"\n",
    "        \"&polygon=12.555001,55.714439|12.544964,55.711152|12.535566,55.708713|12.523383,55.700403|\"\n",
    "        \"12.513564,55.690885|12.507604,55.674192|12.508089,55.656840|12.521769,55.648585|\"\n",
    "        \"12.534702,55.642731|12.564876,55.614388|12.591917,55.614270|12.599055,55.649692|\"\n",
    "        \"12.605518,55.649361|12.615303,55.649093|12.628699,55.649335|12.641590,55.649906|\"\n",
    "        \"12.636977,55.665739|12.626008,55.676732|12.636641,55.686489|12.654036,55.720127|\"\n",
    "        \"12.602392,55.730897|12.555001,55.714439&page={page}\"\n",
    "    )"
   ]
  },
  {
   "cell_type": "code",
   "execution_count": null,
   "id": "c1d17ce8-3994-4fa8-94b4-8cb35284ee31",
   "metadata": {},
   "outputs": [],
   "source": [
    "import datetime\n",
    "\n",
    "def iso_date(epoch_seconds): return datetime.datetime.fromtimestamp(\n",
    "    epoch_seconds).isoformat()\n"
   ]
  },
  {
   "cell_type": "code",
   "execution_count": null,
   "id": "cd4d813d-5c28-44c0-a319-b621c72bc652",
   "metadata": {},
   "outputs": [],
   "source": []
  },
  {
   "cell_type": "code",
   "execution_count": null,
   "id": "da56aa64-1654-4de7-936b-6bb2fef964bd",
   "metadata": {},
   "outputs": [],
   "source": [
    "datetime.datetime.today().timestamp()"
   ]
  },
  {
   "cell_type": "code",
   "execution_count": null,
   "id": "1ad15de6-2bde-4187-9d8d-4b29aa867249",
   "metadata": {},
   "outputs": [],
   "source": [
    "import uuid\n",
    "import chromadb\n",
    "\n",
    "import datetime\n",
    "import random\n",
    "\n",
    "now = datetime.datetime.now()\n",
    "two_weeks_ago = now - datetime.timedelta(days=14)\n",
    "\n",
    "dates = [\n",
    "    two_weeks_ago + datetime.timedelta(days=random.randint(0, 14))\n",
    "    for _ in range(100)\n",
    "]\n",
    "dates = [int(date.timestamp()) for date in dates]\n",
    "\n",
    "# convert epoch seconds to iso format\n",
    "\n",
    "def iso_date(epoch_seconds): return datetime.datetime.fromtimestamp(\n",
    "    epoch_seconds).isoformat()\n",
    "\n",
    "col = chroma_client.get_or_create_collection(\"test\")\n",
    "\n",
    "col.add(ids=[f\"{uuid.uuid4()}\" for _ in range(100)], documents=[\n",
    "    f\"document {i}\" for i in range(100)], metadatas=[{\"create_date\": date} for date in dates])\n",
    "\n",
    "res = col.get(where={\"create_date\": {\"$gt\": (now - datetime.timedelta(days=7)).timestamp()}})\n",
    "\n",
    "for i in res['metadatas']:\n",
    "    print(iso_date(i['create_date']))"
   ]
  },
  {
   "cell_type": "code",
   "execution_count": null,
   "id": "df98e57e-479d-42ab-8a59-28c45e8acb0e",
   "metadata": {},
   "outputs": [],
   "source": []
  }
 ],
 "metadata": {
  "kernelspec": {
   "display_name": "Python 3 (ipykernel)",
   "language": "python",
   "name": "python3"
  },
  "language_info": {
   "codemirror_mode": {
    "name": "ipython",
    "version": 3
   },
   "file_extension": ".py",
   "mimetype": "text/x-python",
   "name": "python",
   "nbconvert_exporter": "python",
   "pygments_lexer": "ipython3",
   "version": "3.11.12"
  }
 },
 "nbformat": 4,
 "nbformat_minor": 5
}
