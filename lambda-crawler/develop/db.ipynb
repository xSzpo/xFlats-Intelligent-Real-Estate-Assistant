{
 "cells": [
  {
   "cell_type": "code",
   "execution_count": null,
   "id": "c89ab565-5fa8-42c6-88be-c8546ac34aab",
   "metadata": {},
   "outputs": [],
   "source": [
    "import datetime\n",
    "import hashlib\n",
    "import json\n",
    "import re\n",
    "import statistics\n",
    "from urllib.parse import urljoin, urlparse\n",
    "from urllib.request import urlopen\n",
    "\n",
    "import boto3\n",
    "import chromadb\n",
    "import requests\n",
    "from chromadb import Documents, EmbeddingFunction, Embeddings\n",
    "from google import genai\n",
    "from google.api_core import retry\n",
    "from google.genai import types\n",
    "from osmnx import features_from_point\n",
    "from pydantic import BaseModel\n",
    "\n",
    "def get_secret(secret_id, key=None, profile_name=None):\n",
    "    if profile_name:\n",
    "        boto3.setup_default_session(profile_name=profile_name)\n",
    "    secrets_client = boto3.client(\"secretsmanager\", region_name=\"eu-central-1\")\n",
    "    secret_value_response = secrets_client.get_secret_value(SecretId=secret_id)\n",
    "    secret_dict = json.loads(secret_value_response[\"SecretString\"])\n",
    "    if key:\n",
    "        return secret_dict[key]\n",
    "    else:\n",
    "        return secret_dict\n",
    "\n",
    "\n",
    "client = genai.Client(\n",
    "    api_key=get_secret(\n",
    "        secret_id=\"gemini-274181059559\", key=\"GOOGLE_API_KEY\", profile_name=\"priv\"\n",
    "    )\n",
    ")"
   ]
  },
  {
   "cell_type": "code",
   "execution_count": null,
   "id": "f8f1c224-c775-4278-a2ac-d9e63d557dab",
   "metadata": {},
   "outputs": [],
   "source": [
    "\n",
    "def is_retriable(e: Exception) -> bool:\n",
    "    \"\"\"\n",
    "    Determine if an exception should trigger a retry.\n",
    "\n",
    "    Parameters:\n",
    "        e (Exception): The exception to check.\n",
    "\n",
    "    Returns:\n",
    "        bool: True if the exception is retriable (API error codes 429 or 503), otherwise False.\n",
    "    \"\"\"\n",
    "    return isinstance(e, genai.errors.APIError) and e.code in {429, 503}\n",
    "\n",
    "\n",
    "class GeminiEmbeddingFunction(EmbeddingFunction):\n",
    "    \"\"\"\n",
    "    Custom embedding function for generating text embeddings via the Gemini API.\n",
    "    \"\"\"\n",
    "\n",
    "    document_mode: bool = True\n",
    "\n",
    "    @retry.Retry(predicate=is_retriable)\n",
    "    def __call__(self, input: Documents) -> Embeddings:\n",
    "        \"\"\"\n",
    "        Generate embeddings for the provided documents.\n",
    "\n",
    "        Parameters:\n",
    "            input (Documents): The documents or queries to embed.\n",
    "\n",
    "        Returns:\n",
    "            Embeddings: A list of embedding vectors.\n",
    "        \"\"\"\n",
    "        task_type = \"retrieval_document\" if self.document_mode else \"retrieval_query\"\n",
    "        response = client.models.embed_content(\n",
    "            model=\"models/text-embedding-004\",\n",
    "            contents=input,\n",
    "            config=types.EmbedContentConfig(task_type=task_type),\n",
    "        )\n",
    "        return [e.values for e in response.embeddings]\n"
   ]
  },
  {
   "cell_type": "code",
   "execution_count": null,
   "id": "27ae3864-a652-4773-aeef-572e57dff41f",
   "metadata": {},
   "outputs": [],
   "source": [
    "DB_NAME = \"real-estate-offers\"\n",
    "embed_fn = GeminiEmbeddingFunction()\n",
    "embed_fn.document_mode = True\n",
    "chroma_client = chromadb.HttpClient(host=get_secret(secret_id=\"chrome-db-274181059559\", key=\"IP\", profile_name=\"priv\"), port=8000)\n",
    "collection = chroma_client.get_or_create_collection(\n",
    "    name=DB_NAME, embedding_function=embed_fn\n",
    ")"
   ]
  },
  {
   "cell_type": "code",
   "execution_count": null,
   "id": "fa98741f-8716-4e50-9ffb-2bedcdede51c",
   "metadata": {},
   "outputs": [],
   "source": [
    "chroma_client.list_collections()"
   ]
  },
  {
   "cell_type": "code",
   "execution_count": null,
   "id": "5de6fb2f-b05a-4cab-b5b4-53e9ffce64ea",
   "metadata": {},
   "outputs": [],
   "source": [
    "collection.count()"
   ]
  },
  {
   "cell_type": "code",
   "execution_count": null,
   "id": "7e135546-a54d-415f-8525-0b4e9a70e27a",
   "metadata": {},
   "outputs": [],
   "source": [
    "#chroma_client.delete_collection(DB_NAME)"
   ]
  },
  {
   "cell_type": "code",
   "execution_count": null,
   "id": "171dfd61-dc4b-4ae8-b0b0-fc9d0f1ba448",
   "metadata": {},
   "outputs": [],
   "source": [
    "collection.get(\n",
    "        include=[\"metadatas\", \"documents\", \"embeddings\"],\n",
    "        limit=10,\n",
    "        offset=1)"
   ]
  },
  {
   "cell_type": "code",
   "execution_count": null,
   "id": "afc12a68-6ad8-4d57-9fab-34394a373089",
   "metadata": {},
   "outputs": [],
   "source": []
  }
 ],
 "metadata": {
  "kernelspec": {
   "display_name": "Python 3 (ipykernel)",
   "language": "python",
   "name": "python3"
  },
  "language_info": {
   "codemirror_mode": {
    "name": "ipython",
    "version": 3
   },
   "file_extension": ".py",
   "mimetype": "text/x-python",
   "name": "python",
   "nbconvert_exporter": "python",
   "pygments_lexer": "ipython3",
   "version": "3.11.12"
  }
 },
 "nbformat": 4,
 "nbformat_minor": 5
}
